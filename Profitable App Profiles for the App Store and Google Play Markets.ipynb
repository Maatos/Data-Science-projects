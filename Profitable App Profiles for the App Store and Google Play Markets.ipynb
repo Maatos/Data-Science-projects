{
 "cells": [
  {
   "cell_type": "markdown",
   "metadata": {
    "collapsed": true
   },
   "source": [
    "# Finding what type of apps attract more users\n",
    "\n",
    "As a company developing free to download apps, our main source of revenue are the in-app ads. To maximize our revenue we need to attract as much users as possible so the watch our ads.\n",
    "\n",
    "With this project we intend to understand what are the apps currently attracting more users."
   ]
  },
  {
   "cell_type": "code",
   "execution_count": 1,
   "metadata": {
    "collapsed": true
   },
   "outputs": [],
   "source": [
    "def explore_data(dataset, start, end, rows_and_columns=False):\n",
    "    dataset_slice = dataset[start:end]    \n",
    "    for row in dataset_slice:\n",
    "        print(row)\n",
    "        print('\\n') # adds a new (empty) line after each row\n",
    "\n",
    "    if rows_and_columns:\n",
    "        print('Number of rows:', len(dataset))\n",
    "        print('Number of columns:', len(dataset[0]))"
   ]
  },
  {
   "cell_type": "code",
   "execution_count": 2,
   "metadata": {
    "collapsed": true
   },
   "outputs": [],
   "source": [
    "file_apple = open('AppleStore.csv')\n",
    "file_google = open('googleplaystore.csv')\n",
    "from csv import reader\n",
    "appstore = list(reader(file_apple))\n",
    "googleplay = list(reader(file_google))"
   ]
  },
  {
   "cell_type": "code",
   "execution_count": 3,
   "metadata": {
    "collapsed": false
   },
   "outputs": [],
   "source": [
    "appstore_header = appstore[0]\n",
    "appstore = appstore[1:]"
   ]
  },
  {
   "cell_type": "code",
   "execution_count": 4,
   "metadata": {
    "collapsed": false
   },
   "outputs": [],
   "source": [
    "googleplay_header = googleplay[0]\n",
    "googleplay = googleplay[1:]"
   ]
  },
  {
   "cell_type": "code",
   "execution_count": 5,
   "metadata": {
    "collapsed": false
   },
   "outputs": [
    {
     "data": {
      "text/plain": [
       "['id',\n",
       " 'track_name',\n",
       " 'size_bytes',\n",
       " 'currency',\n",
       " 'price',\n",
       " 'rating_count_tot',\n",
       " 'rating_count_ver',\n",
       " 'user_rating',\n",
       " 'user_rating_ver',\n",
       " 'ver',\n",
       " 'cont_rating',\n",
       " 'prime_genre',\n",
       " 'sup_devices.num',\n",
       " 'ipadSc_urls.num',\n",
       " 'lang.num',\n",
       " 'vpp_lic']"
      ]
     },
     "execution_count": 5,
     "metadata": {},
     "output_type": "execute_result"
    }
   ],
   "source": [
    "appstore_header"
   ]
  },
  {
   "cell_type": "code",
   "execution_count": 6,
   "metadata": {
    "collapsed": false
   },
   "outputs": [
    {
     "data": {
      "text/plain": [
       "['App',\n",
       " 'Category',\n",
       " 'Rating',\n",
       " 'Reviews',\n",
       " 'Size',\n",
       " 'Installs',\n",
       " 'Type',\n",
       " 'Price',\n",
       " 'Content Rating',\n",
       " 'Genres',\n",
       " 'Last Updated',\n",
       " 'Current Ver',\n",
       " 'Android Ver']"
      ]
     },
     "execution_count": 6,
     "metadata": {},
     "output_type": "execute_result"
    }
   ],
   "source": [
    "googleplay_header"
   ]
  },
  {
   "cell_type": "code",
   "execution_count": 7,
   "metadata": {
    "collapsed": false,
    "scrolled": false
   },
   "outputs": [
    {
     "name": "stdout",
     "output_type": "stream",
     "text": [
      "['284882215', 'Facebook', '389879808', 'USD', '0.0', '2974676', '212', '3.5', '3.5', '95.0', '4+', 'Social Networking', '37', '1', '29', '1']\n",
      "\n",
      "\n",
      "['389801252', 'Instagram', '113954816', 'USD', '0.0', '2161558', '1289', '4.5', '4.0', '10.23', '12+', 'Photo & Video', '37', '0', '29', '1']\n",
      "\n",
      "\n",
      "['529479190', 'Clash of Clans', '116476928', 'USD', '0.0', '2130805', '579', '4.5', '4.5', '9.24.12', '9+', 'Games', '38', '5', '18', '1']\n",
      "\n",
      "\n",
      "Number of rows: 7197\n",
      "Number of columns: 16\n"
     ]
    }
   ],
   "source": [
    "explore_data(appstore,0,3,True)"
   ]
  },
  {
   "cell_type": "code",
   "execution_count": 8,
   "metadata": {
    "collapsed": false
   },
   "outputs": [
    {
     "name": "stdout",
     "output_type": "stream",
     "text": [
      "['Photo Editor & Candy Camera & Grid & ScrapBook', 'ART_AND_DESIGN', '4.1', '159', '19M', '10,000+', 'Free', '0', 'Everyone', 'Art & Design', 'January 7, 2018', '1.0.0', '4.0.3 and up']\n",
      "\n",
      "\n",
      "['Coloring book moana', 'ART_AND_DESIGN', '3.9', '967', '14M', '500,000+', 'Free', '0', 'Everyone', 'Art & Design;Pretend Play', 'January 15, 2018', '2.0.0', '4.0.3 and up']\n",
      "\n",
      "\n",
      "['U Launcher Lite – FREE Live Cool Themes, Hide Apps', 'ART_AND_DESIGN', '4.7', '87510', '8.7M', '5,000,000+', 'Free', '0', 'Everyone', 'Art & Design', 'August 1, 2018', '1.2.4', '4.0.3 and up']\n",
      "\n",
      "\n",
      "Number of rows: 10841\n",
      "Number of columns: 13\n"
     ]
    }
   ],
   "source": [
    "explore_data(googleplay,0,3,True)"
   ]
  },
  {
   "cell_type": "code",
   "execution_count": 9,
   "metadata": {
    "collapsed": false
   },
   "outputs": [],
   "source": [
    "del googleplay[10472]"
   ]
  },
  {
   "cell_type": "markdown",
   "metadata": {},
   "source": [
    "## Information that can be relevant to our study:\n",
    "### AppStore\n",
    "(Check all the documentation [here](https://www.kaggle.com/ramamet4/app-store-apple-data-set-10k-apps))\n",
    "- Price `[price]`\n",
    "- Number of user ratings `[rating_count_tot]`\n",
    "- Average user rating `[user_rating]`\n",
    "- Content rating `[cont_rating]`\n",
    "- Primary genre `[prime_genre]`\n",
    "\n",
    "### GooglePlay\n",
    "(Check all the documentation [here](https://www.kaggle.com/lava18/google-play-store-apps))\n",
    "- Rating `[Ratings]`\n",
    "- Reviews `[Reviews]`\n",
    "- Installs `[Installs]`\n",
    "- Type (paid or free) `[Type]`\n",
    "- Content rating `[Content Rating]`\n",
    "- Genre `[Genre]`\n"
   ]
  },
  {
   "cell_type": "code",
   "execution_count": 10,
   "metadata": {
    "collapsed": false
   },
   "outputs": [],
   "source": [
    "def get_dict(store,app_name_index):\n",
    "    final_dict = {}\n",
    "    for app in store:\n",
    "        if app[app_name_index] in final_dict:\n",
    "            final_dict[app[app_name_index]] += 1\n",
    "        else:\n",
    "            final_dict[app[app_name_index]] = 1\n",
    "    return final_dict"
   ]
  },
  {
   "cell_type": "code",
   "execution_count": 11,
   "metadata": {
    "collapsed": true
   },
   "outputs": [],
   "source": [
    "def get_duplicates(dictionary):\n",
    "    duplicates = []\n",
    "    for app in dictionary:\n",
    "        if dictionary[app] > 1:\n",
    "            duplicates.append(app)\n",
    "    return duplicates"
   ]
  },
  {
   "cell_type": "code",
   "execution_count": 12,
   "metadata": {
    "collapsed": false
   },
   "outputs": [
    {
     "data": {
      "text/plain": [
       "['VR Roller Coaster', 'Mannequin Challenge']"
      ]
     },
     "execution_count": 12,
     "metadata": {},
     "output_type": "execute_result"
    }
   ],
   "source": [
    "apple_duplicates = get_duplicates(get_dict(appstore,1))\n",
    "apple_duplicates"
   ]
  },
  {
   "cell_type": "markdown",
   "metadata": {},
   "source": [
    "### Google Play duplicates\n",
    "We found out there are some duplicates at the Google Play database, as seen below:"
   ]
  },
  {
   "cell_type": "code",
   "execution_count": 13,
   "metadata": {
    "collapsed": false,
    "scrolled": true
   },
   "outputs": [
    {
     "name": "stdout",
     "output_type": "stream",
     "text": [
      "Number of duplicate apps: 1181\n",
      "\n",
      "\n",
      "Examples of duplicate apps: ['Quick PDF Scanner + OCR FREE', 'Box', 'Google My Business', 'ZOOM Cloud Meetings', 'join.me - Simple Meetings', 'Box', 'Zenefits', 'Google Ads', 'Google My Business', 'Slack']\n"
     ]
    }
   ],
   "source": [
    "duplicate_apps = []\n",
    "unique_apps = []\n",
    "\n",
    "for app in googleplay:\n",
    "    if app[0] in unique_apps:\n",
    "        duplicate_apps.append(app[0])\n",
    "    else:\n",
    "        unique_apps.append(app[0])\n",
    "        \n",
    "print('Number of duplicate apps:',len(duplicate_apps))\n",
    "print('\\n')\n",
    "print('Examples of duplicate apps:',duplicate_apps[:10])"
   ]
  },
  {
   "cell_type": "markdown",
   "metadata": {},
   "source": [
    "We will remove duplicates, keeping only the version with more reviews."
   ]
  },
  {
   "cell_type": "code",
   "execution_count": 14,
   "metadata": {
    "collapsed": false
   },
   "outputs": [],
   "source": [
    "reviews_max = {}\n",
    "\n",
    "for app in googleplay:\n",
    "    name = app[0]\n",
    "    n_reviews = float(app[3])\n",
    "    if name in reviews_max and reviews_max[name] < n_reviews:\n",
    "        reviews_max[name] = n_reviews\n",
    "    if name not in reviews_max:\n",
    "        reviews_max[name] = n_reviews"
   ]
  },
  {
   "cell_type": "code",
   "execution_count": 15,
   "metadata": {
    "collapsed": false
   },
   "outputs": [
    {
     "data": {
      "text/plain": [
       "9659"
      ]
     },
     "execution_count": 15,
     "metadata": {},
     "output_type": "execute_result"
    }
   ],
   "source": [
    "len(reviews_max)"
   ]
  },
  {
   "cell_type": "markdown",
   "metadata": {},
   "source": [
    "We will loop through the dataset to get a new list with unique apps."
   ]
  },
  {
   "cell_type": "code",
   "execution_count": 16,
   "metadata": {
    "collapsed": true
   },
   "outputs": [],
   "source": [
    "android_clean = []\n",
    "already_added = []\n",
    "\n",
    "for app in googleplay:\n",
    "    name = app[0]\n",
    "    n_reviews = float(app[3])\n",
    "    if reviews_max[name] == n_reviews and name not in already_added:\n",
    "        android_clean.append(app)\n",
    "        already_added.append(name)       "
   ]
  },
  {
   "cell_type": "code",
   "execution_count": 17,
   "metadata": {
    "collapsed": false
   },
   "outputs": [
    {
     "data": {
      "text/plain": [
       "9659"
      ]
     },
     "execution_count": 17,
     "metadata": {},
     "output_type": "execute_result"
    }
   ],
   "source": [
    "len(android_clean)"
   ]
  },
  {
   "cell_type": "markdown",
   "metadata": {},
   "source": [
    "We will check for apps with non-English characters and remove them."
   ]
  },
  {
   "cell_type": "code",
   "execution_count": 18,
   "metadata": {
    "collapsed": true
   },
   "outputs": [],
   "source": [
    "def english(string):\n",
    "    count = 0\n",
    "    for letter in string:\n",
    "        if ord(letter) > 127:\n",
    "            count += 1\n",
    "            if count > 3:\n",
    "                return False\n",
    "    return True"
   ]
  },
  {
   "cell_type": "code",
   "execution_count": 19,
   "metadata": {
    "collapsed": false
   },
   "outputs": [
    {
     "name": "stdout",
     "output_type": "stream",
     "text": [
      "True\n",
      "False\n",
      "True\n",
      "True\n"
     ]
    }
   ],
   "source": [
    "print(english('Instagram'))\n",
    "print(english('爱奇艺PPS -《欢乐颂2》电视剧热播'))\n",
    "print(english('Docs To Go™ Free Office Suite'))\n",
    "print(english('Instachat 😜'))"
   ]
  },
  {
   "cell_type": "code",
   "execution_count": 20,
   "metadata": {
    "collapsed": false
   },
   "outputs": [],
   "source": [
    "android_english = []\n",
    "appstore_english = []\n",
    "\n",
    "for app in android_clean:\n",
    "    if english(app[0]):\n",
    "        android_english.append(app)\n",
    "        \n",
    "for app in appstore:\n",
    "    if english(app[1]):\n",
    "        appstore_english.append(app)"
   ]
  },
  {
   "cell_type": "code",
   "execution_count": 21,
   "metadata": {
    "collapsed": false
   },
   "outputs": [
    {
     "name": "stdout",
     "output_type": "stream",
     "text": [
      "9614\n",
      "6183\n"
     ]
    }
   ],
   "source": [
    "print(len(android_english))\n",
    "print(len(appstore_english))"
   ]
  },
  {
   "cell_type": "markdown",
   "metadata": {},
   "source": [
    "We will isolate free apps, as they are the study objective"
   ]
  },
  {
   "cell_type": "code",
   "execution_count": 22,
   "metadata": {
    "collapsed": false,
    "scrolled": false
   },
   "outputs": [
    {
     "name": "stdout",
     "output_type": "stream",
     "text": [
      "['Photo Editor & Candy Camera & Grid & ScrapBook', 'ART_AND_DESIGN', '4.1', '159', '19M', '10,000+', 'Free', '0', 'Everyone', 'Art & Design', 'January 7, 2018', '1.0.0', '4.0.3 and up']\n",
      "\n",
      "\n",
      "['U Launcher Lite – FREE Live Cool Themes, Hide Apps', 'ART_AND_DESIGN', '4.7', '87510', '8.7M', '5,000,000+', 'Free', '0', 'Everyone', 'Art & Design', 'August 1, 2018', '1.2.4', '4.0.3 and up']\n",
      "\n",
      "\n",
      "Number of rows: 8863\n",
      "Number of columns: 13\n",
      "['284882215', 'Facebook', '389879808', 'USD', '0.0', '2974676', '212', '3.5', '3.5', '95.0', '4+', 'Social Networking', '37', '1', '29', '1']\n",
      "\n",
      "\n",
      "['389801252', 'Instagram', '113954816', 'USD', '0.0', '2161558', '1289', '4.5', '4.0', '10.23', '12+', 'Photo & Video', '37', '0', '29', '1']\n",
      "\n",
      "\n",
      "Number of rows: 3222\n",
      "Number of columns: 16\n"
     ]
    }
   ],
   "source": [
    "android_free = []\n",
    "ios_free = []\n",
    "\n",
    "for app in android_english:\n",
    "    if app[6] == 'Free':\n",
    "        android_free.append(app)\n",
    "        \n",
    "for app in appstore_english:\n",
    "    if app[4] == '0.0':\n",
    "        ios_free.append(app)\n",
    "        \n",
    "explore_data(android_free,0,2,True)\n",
    "explore_data(ios_free,0,2,True)"
   ]
  },
  {
   "cell_type": "markdown",
   "metadata": {},
   "source": [
    "We found an app with Price '0' but not Type 'Free', so we corrected it"
   ]
  },
  {
   "cell_type": "code",
   "execution_count": 23,
   "metadata": {
    "collapsed": false
   },
   "outputs": [
    {
     "name": "stdout",
     "output_type": "stream",
     "text": [
      "['App', 'Category', 'Rating', 'Reviews', 'Size', 'Installs', 'Type', 'Price', 'Content Rating', 'Genres', 'Last Updated', 'Current Ver', 'Android Ver']\n",
      "['Command & Conquer: Rivals', 'FAMILY', 'NaN', '0', 'Varies with device', '0', 'NaN', '0', 'Everyone 10+', 'Strategy', 'June 28, 2018', 'Varies with device', 'Varies with device']\n"
     ]
    }
   ],
   "source": [
    "count = 0\n",
    "for app in android_english:\n",
    "    if app[6] != 'Free' and app[7] == '0':\n",
    "        mistake = app\n",
    "        break\n",
    "    count += 1\n",
    "        \n",
    "print(googleplay_header)\n",
    "print(mistake)"
   ]
  },
  {
   "cell_type": "code",
   "execution_count": 24,
   "metadata": {
    "collapsed": false,
    "scrolled": false
   },
   "outputs": [],
   "source": [
    "android_english[7939][6] = 'Free'"
   ]
  },
  {
   "cell_type": "code",
   "execution_count": 25,
   "metadata": {
    "collapsed": false,
    "scrolled": false
   },
   "outputs": [
    {
     "name": "stdout",
     "output_type": "stream",
     "text": [
      "['284882215', 'Facebook', '389879808', 'USD', '0.0', '2974676', '212', '3.5', '3.5', '95.0', '4+', 'Social Networking', '37', '1', '29', '1']\n",
      "\n",
      "\n",
      "['389801252', 'Instagram', '113954816', 'USD', '0.0', '2161558', '1289', '4.5', '4.0', '10.23', '12+', 'Photo & Video', '37', '0', '29', '1']\n",
      "\n",
      "\n",
      "['529479190', 'Clash of Clans', '116476928', 'USD', '0.0', '2130805', '579', '4.5', '4.5', '9.24.12', '9+', 'Games', '38', '5', '18', '1']\n",
      "\n",
      "\n",
      "Number of rows: 3222\n",
      "Number of columns: 16\n",
      "\n",
      "\n",
      "\n",
      "\n",
      "['Photo Editor & Candy Camera & Grid & ScrapBook', 'ART_AND_DESIGN', '4.1', '159', '19M', '10,000+', 'Free', '0', 'Everyone', 'Art & Design', 'January 7, 2018', '1.0.0', '4.0.3 and up']\n",
      "\n",
      "\n",
      "['U Launcher Lite – FREE Live Cool Themes, Hide Apps', 'ART_AND_DESIGN', '4.7', '87510', '8.7M', '5,000,000+', 'Free', '0', 'Everyone', 'Art & Design', 'August 1, 2018', '1.2.4', '4.0.3 and up']\n",
      "\n",
      "\n",
      "['Sketch - Draw & Paint', 'ART_AND_DESIGN', '4.5', '215644', '25M', '50,000,000+', 'Free', '0', 'Teen', 'Art & Design', 'June 8, 2018', 'Varies with device', '4.2 and up']\n",
      "\n",
      "\n",
      "Number of rows: 8863\n",
      "Number of columns: 13\n"
     ]
    }
   ],
   "source": [
    "explore_data(ios_free,0,3,True)\n",
    "print('\\n\\n\\n')\n",
    "explore_data(android_free,0,3,True)"
   ]
  },
  {
   "cell_type": "code",
   "execution_count": 26,
   "metadata": {
    "collapsed": true
   },
   "outputs": [],
   "source": [
    "android_header = googleplay_header\n",
    "ios_header = appstore_header"
   ]
  },
  {
   "cell_type": "markdown",
   "metadata": {},
   "source": [
    "As we mentioned in the introduction, our aim is to determine the kinds of apps that are likely to attract more users because our revenue is highly influenced by the number of people using our apps.\n",
    "\n",
    "To minimize risks and overhead, our validation strategy for an app idea is comprised of three steps:\n",
    "\n",
    "1. Build a minimal Android version of the app, and add it to Google Play.\n",
    "2. If the app has a good response from users, we develop it further.\n",
    "3. If the app is profitable after six months, we build an iOS version of the app and add it to the App Store.\n",
    "\n",
    "Because our end goal is to add the app on both Google Play and the App Store, we need to find app profiles that are successful on both markets. For instance, a profile that works well for both markets might be a productivity app that makes use of gamification.\n",
    "\n",
    "Let's inspect the datasets' headers and find out what data can help us reach our goal:"
   ]
  },
  {
   "cell_type": "code",
   "execution_count": 27,
   "metadata": {
    "collapsed": false,
    "scrolled": true
   },
   "outputs": [
    {
     "name": "stdout",
     "output_type": "stream",
     "text": [
      "['App', 'Category', 'Rating', 'Reviews', 'Size', 'Installs', 'Type', 'Price', 'Content Rating', 'Genres', 'Last Updated', 'Current Ver', 'Android Ver']\n",
      "['id', 'track_name', 'size_bytes', 'currency', 'price', 'rating_count_tot', 'rating_count_ver', 'user_rating', 'user_rating_ver', 'ver', 'cont_rating', 'prime_genre', 'sup_devices.num', 'ipadSc_urls.num', 'lang.num', 'vpp_lic']\n"
     ]
    }
   ],
   "source": [
    "print(android_header)\n",
    "print(ios_header)"
   ]
  },
  {
   "cell_type": "markdown",
   "metadata": {},
   "source": [
    "For android, `'Category'` and `'Genres'`. For iOS, `'prime_genre'`. See one example below for each store:"
   ]
  },
  {
   "cell_type": "code",
   "execution_count": 28,
   "metadata": {
    "collapsed": false,
    "scrolled": true
   },
   "outputs": [
    {
     "name": "stdout",
     "output_type": "stream",
     "text": [
      "['Photo Editor & Candy Camera & Grid & ScrapBook', 'ART_AND_DESIGN', '4.1', '159', '19M', '10,000+', 'Free', '0', 'Everyone', 'Art & Design', 'January 7, 2018', '1.0.0', '4.0.3 and up']\n",
      "\n",
      "\n",
      "['284882215', 'Facebook', '389879808', 'USD', '0.0', '2974676', '212', '3.5', '3.5', '95.0', '4+', 'Social Networking', '37', '1', '29', '1']\n"
     ]
    }
   ],
   "source": [
    "print(android_free[0])\n",
    "print('\\n')\n",
    "print(ios_free[0])"
   ]
  },
  {
   "cell_type": "code",
   "execution_count": 29,
   "metadata": {
    "collapsed": true
   },
   "outputs": [],
   "source": [
    "def freq_table(dataset,index):\n",
    "    dictionary = {}\n",
    "    for app in dataset:\n",
    "        if app[index] in dictionary:\n",
    "            dictionary[app[index]] += 100/len(dataset)\n",
    "        else:\n",
    "            dictionary[app[index]] = 100/len(dataset)\n",
    "    return dictionary"
   ]
  },
  {
   "cell_type": "code",
   "execution_count": 30,
   "metadata": {
    "collapsed": true
   },
   "outputs": [],
   "source": [
    "def display_table(dataset, index):\n",
    "    table = freq_table(dataset, index)\n",
    "    table_display = []\n",
    "    for key in table:\n",
    "        key_val_as_tuple = (table[key], key)\n",
    "        table_display.append(key_val_as_tuple)\n",
    "\n",
    "    table_sorted = sorted(table_display, reverse = True)\n",
    "    for entry in table_sorted:\n",
    "        print(entry[1], ':', entry[0])"
   ]
  },
  {
   "cell_type": "code",
   "execution_count": 31,
   "metadata": {
    "collapsed": false,
    "scrolled": false
   },
   "outputs": [
    {
     "name": "stdout",
     "output_type": "stream",
     "text": [
      "Games : 58.1626319056464\n",
      "Entertainment : 7.883302296710134\n",
      "Photo & Video : 4.965859714463075\n",
      "Education : 3.6623215394165176\n",
      "Social Networking : 3.2898820608317867\n",
      "Shopping : 2.6070763500931133\n",
      "Utilities : 2.5139664804469306\n",
      "Sports : 2.1415270018621997\n",
      "Music : 2.048417132216017\n",
      "Health & Fitness : 2.0173805090006227\n",
      "Productivity : 1.7380509000620747\n",
      "Lifestyle : 1.5828677839851035\n",
      "News : 1.3345747982619496\n",
      "Travel : 1.2414649286157668\n",
      "Finance : 1.1173184357541899\n",
      "Weather : 0.8690254500310364\n",
      "Food & Drink : 0.8069522036002481\n",
      "Reference : 0.558659217877095\n",
      "Business : 0.5276225946617009\n",
      "Book : 0.4345127250155184\n",
      "Navigation : 0.186219739292365\n",
      "Medical : 0.186219739292365\n",
      "Catalogs : 0.12414649286157665\n"
     ]
    }
   ],
   "source": [
    "prime_genre_freq = display_table(ios_free,11)"
   ]
  },
  {
   "cell_type": "markdown",
   "metadata": {},
   "source": [
    "AppStore is clearly dominated by entertainment apps (Games and Entertainment account for top 2)"
   ]
  },
  {
   "cell_type": "code",
   "execution_count": 32,
   "metadata": {
    "collapsed": false,
    "scrolled": false
   },
   "outputs": [
    {
     "name": "stdout",
     "output_type": "stream",
     "text": [
      "Tools : 8.450863138892059\n",
      "Entertainment : 6.070179397495205\n",
      "Education : 5.348076272142616\n",
      "Business : 4.592124562789124\n",
      "Productivity : 3.8925871601038025\n",
      "Lifestyle : 3.8925871601038025\n",
      "Finance : 3.700778517432021\n",
      "Medical : 3.5315355974275078\n",
      "Sports : 3.4638384294257025\n",
      "Personalization : 3.317161232088458\n",
      "Communication : 3.2381812027530184\n",
      "Action : 3.102786866749408\n",
      "Health & Fitness : 3.0802211440821394\n",
      "Photography : 2.944826808078529\n",
      "News & Magazines : 2.798149610741284\n",
      "Social : 2.6627552747376737\n",
      "Travel & Local : 2.3242694347286474\n",
      "Shopping : 2.245289405393208\n",
      "Books & Reference : 2.1437436533905\n",
      "Simulation : 2.0421979013877922\n",
      "Dating : 1.8616721200496447\n",
      "Arcade : 1.8503892587160105\n",
      "Video Players & Editors : 1.771409229380571\n",
      "Casual : 1.7601263680469368\n",
      "Maps & Navigation : 1.399074805370642\n",
      "Food & Drink : 1.2411147466997632\n",
      "Puzzle : 1.128286133363421\n",
      "Racing : 0.9928917973598105\n",
      "Role Playing : 0.9364774906916394\n",
      "Libraries & Demo : 0.9364774906916394\n",
      "Auto & Vehicles : 0.9251946293580052\n",
      "Strategy : 0.9026289066907368\n",
      "House & Home : 0.8236488773552973\n",
      "Weather : 0.8010831546880289\n",
      "Events : 0.7108202640189553\n",
      "Adventure : 0.6769716800180526\n",
      "Comics : 0.6092745120162474\n",
      "Beauty : 0.5979916506826132\n",
      "Art & Design : 0.5979916506826132\n",
      "Parenting : 0.49644589867990524\n",
      "Card : 0.4513144533453684\n",
      "Casino : 0.4287487306781\n",
      "Trivia : 0.4174658693444658\n",
      "Educational;Education : 0.39490014667719736\n",
      "Board : 0.38361728534356315\n",
      "Educational : 0.37233442400992894\n",
      "Education;Education : 0.3384858400090263\n",
      "Word : 0.25950581067358686\n",
      "Casual;Pretend Play : 0.2369400880063184\n",
      "Music : 0.20309150400541578\n",
      "Racing;Action & Adventure : 0.16924292000451316\n",
      "Puzzle;Brain Games : 0.16924292000451316\n",
      "Entertainment;Music & Video : 0.16924292000451316\n",
      "Casual;Brain Games : 0.13539433600361053\n",
      "Casual;Action & Adventure : 0.13539433600361053\n",
      "Arcade;Action & Adventure : 0.12411147466997631\n",
      "Action;Action & Adventure : 0.10154575200270789\n",
      "Educational;Pretend Play : 0.09026289066907368\n",
      "Simulation;Action & Adventure : 0.07898002933543948\n",
      "Parenting;Education : 0.07898002933543948\n",
      "Entertainment;Brain Games : 0.07898002933543948\n",
      "Board;Brain Games : 0.07898002933543948\n",
      "Parenting;Music & Video : 0.06769716800180527\n",
      "Educational;Brain Games : 0.06769716800180527\n",
      "Casual;Creativity : 0.06769716800180527\n",
      "Art & Design;Creativity : 0.06769716800180527\n",
      "Education;Pretend Play : 0.05641430666817105\n",
      "Role Playing;Pretend Play : 0.04513144533453684\n",
      "Education;Creativity : 0.04513144533453684\n",
      "Role Playing;Action & Adventure : 0.03384858400090263\n",
      "Puzzle;Action & Adventure : 0.03384858400090263\n",
      "Entertainment;Creativity : 0.03384858400090263\n",
      "Entertainment;Action & Adventure : 0.03384858400090263\n",
      "Educational;Creativity : 0.03384858400090263\n",
      "Educational;Action & Adventure : 0.03384858400090263\n",
      "Education;Music & Video : 0.03384858400090263\n",
      "Education;Brain Games : 0.03384858400090263\n",
      "Education;Action & Adventure : 0.03384858400090263\n",
      "Adventure;Action & Adventure : 0.03384858400090263\n",
      "Video Players & Editors;Music & Video : 0.02256572266726842\n",
      "Sports;Action & Adventure : 0.02256572266726842\n",
      "Simulation;Pretend Play : 0.02256572266726842\n",
      "Puzzle;Creativity : 0.02256572266726842\n",
      "Music;Music & Video : 0.02256572266726842\n",
      "Entertainment;Pretend Play : 0.02256572266726842\n",
      "Casual;Education : 0.02256572266726842\n",
      "Board;Action & Adventure : 0.02256572266726842\n",
      "Video Players & Editors;Creativity : 0.01128286133363421\n",
      "Trivia;Education : 0.01128286133363421\n",
      "Travel & Local;Action & Adventure : 0.01128286133363421\n",
      "Tools;Education : 0.01128286133363421\n",
      "Strategy;Education : 0.01128286133363421\n",
      "Strategy;Creativity : 0.01128286133363421\n",
      "Strategy;Action & Adventure : 0.01128286133363421\n",
      "Simulation;Education : 0.01128286133363421\n",
      "Role Playing;Brain Games : 0.01128286133363421\n",
      "Racing;Pretend Play : 0.01128286133363421\n",
      "Puzzle;Education : 0.01128286133363421\n",
      "Parenting;Brain Games : 0.01128286133363421\n",
      "Music & Audio;Music & Video : 0.01128286133363421\n",
      "Lifestyle;Pretend Play : 0.01128286133363421\n",
      "Lifestyle;Education : 0.01128286133363421\n",
      "Health & Fitness;Education : 0.01128286133363421\n",
      "Health & Fitness;Action & Adventure : 0.01128286133363421\n",
      "Entertainment;Education : 0.01128286133363421\n",
      "Communication;Creativity : 0.01128286133363421\n",
      "Comics;Creativity : 0.01128286133363421\n",
      "Casual;Music & Video : 0.01128286133363421\n",
      "Card;Action & Adventure : 0.01128286133363421\n",
      "Books & Reference;Education : 0.01128286133363421\n",
      "Art & Design;Pretend Play : 0.01128286133363421\n",
      "Art & Design;Action & Adventure : 0.01128286133363421\n",
      "Arcade;Pretend Play : 0.01128286133363421\n",
      "Adventure;Education : 0.01128286133363421\n"
     ]
    }
   ],
   "source": [
    "genres_freq = display_table(android_free,9)"
   ]
  },
  {
   "cell_type": "code",
   "execution_count": 33,
   "metadata": {
    "collapsed": false,
    "scrolled": true
   },
   "outputs": [
    {
     "name": "stdout",
     "output_type": "stream",
     "text": [
      "FAMILY : 18.898792733837702\n",
      "GAME : 9.725826469592825\n",
      "TOOLS : 8.462146000225694\n",
      "BUSINESS : 4.592124562789124\n",
      "LIFESTYLE : 3.9038700214374367\n",
      "PRODUCTIVITY : 3.8925871601038025\n",
      "FINANCE : 3.700778517432021\n",
      "MEDICAL : 3.5315355974275078\n",
      "SPORTS : 3.3961412614238973\n",
      "PERSONALIZATION : 3.317161232088458\n",
      "COMMUNICATION : 3.2381812027530184\n",
      "HEALTH_AND_FITNESS : 3.0802211440821394\n",
      "PHOTOGRAPHY : 2.944826808078529\n",
      "NEWS_AND_MAGAZINES : 2.798149610741284\n",
      "SOCIAL : 2.6627552747376737\n",
      "TRAVEL_AND_LOCAL : 2.3355522960622817\n",
      "SHOPPING : 2.245289405393208\n",
      "BOOKS_AND_REFERENCE : 2.1437436533905\n",
      "DATING : 1.8616721200496447\n",
      "VIDEO_PLAYERS : 1.7939749520478394\n",
      "MAPS_AND_NAVIGATION : 1.399074805370642\n",
      "FOOD_AND_DRINK : 1.2411147466997632\n",
      "EDUCATION : 1.1621347173643237\n",
      "ENTERTAINMENT : 0.9590432133589079\n",
      "LIBRARIES_AND_DEMO : 0.9364774906916394\n",
      "AUTO_AND_VEHICLES : 0.9251946293580052\n",
      "HOUSE_AND_HOME : 0.8236488773552973\n",
      "WEATHER : 0.8010831546880289\n",
      "EVENTS : 0.7108202640189553\n",
      "PARENTING : 0.6544059573507842\n",
      "ART_AND_DESIGN : 0.64312309601715\n",
      "COMICS : 0.6205573733498816\n",
      "BEAUTY : 0.5979916506826132\n"
     ]
    }
   ],
   "source": [
    "category_freq = display_table(android_free,1)"
   ]
  },
  {
   "cell_type": "markdown",
   "metadata": {},
   "source": [
    "It is harder to navigate through GooglePlay numbers as the Genres table is very extensive, so we will look towards the Category frequency table. Here the distribution is more diverse but still we have Family and Games accounting for top 2, followed by productivity apps like Tools and Business.\n",
    "\n",
    "So, for now:\n",
    "- AppStore is more directed towards Entertainment\n",
    "- GooglePlay has a more diversified collection of apps\n",
    "\n",
    "We will now look at the number of users per genre. For GooglePlay we have info in `Installs` showing us the number of downloads. For AppStore, we will manage to look into the ratings (in `rating_count_tot`) to retrieve that information."
   ]
  },
  {
   "cell_type": "code",
   "execution_count": 34,
   "metadata": {
    "collapsed": false,
    "scrolled": true
   },
   "outputs": [
    {
     "name": "stdout",
     "output_type": "stream",
     "text": [
      "News: 21248.023255813954\n",
      "Education: 7003.983050847458\n",
      "Music: 57326.530303030304\n",
      "Book: 39758.5\n",
      "Food & Drink: 33333.92307692308\n",
      "Entertainment: 14029.830708661417\n",
      "Navigation: 86090.33333333333\n",
      "Weather: 52279.892857142855\n",
      "Business: 7491.117647058823\n",
      "Catalogs: 4004.0\n",
      "Health & Fitness: 23298.015384615384\n",
      "Sports: 23008.898550724636\n",
      "Travel: 28243.8\n",
      "Games: 22788.6696905016\n",
      "Shopping: 26919.690476190477\n",
      "Lifestyle: 16485.764705882353\n",
      "Social Networking: 71548.34905660378\n",
      "Utilities: 18684.456790123455\n",
      "Finance: 31467.944444444445\n",
      "Photo & Video: 28441.54375\n",
      "Medical: 612.0\n",
      "Productivity: 21028.410714285714\n",
      "Reference: 74942.11111111111\n"
     ]
    }
   ],
   "source": [
    "for genre in freq_table(ios_free,11):\n",
    "    total = 0\n",
    "    len_genre = 0\n",
    "    for app in ios_free:\n",
    "        genre_app = app[11]\n",
    "        if genre_app == genre:\n",
    "            total += float(app[5])\n",
    "            len_genre += 1\n",
    "    print(genre + ':',total/len_genre)"
   ]
  },
  {
   "cell_type": "markdown",
   "metadata": {},
   "source": [
    "Top 3:\n",
    "- Navigation: 86090\n",
    "- Reference: 74942\n",
    "- Social Networking: 71548\n",
    "\n",
    "Regarding GooglePlay, we have the relative figures (0+, 1+, 5+, ... , 1,000,000,000+) for number of installs. As we do not need exact precision we will remove the plus (+) sign and consider that as the final number of installs."
   ]
  },
  {
   "cell_type": "code",
   "execution_count": 36,
   "metadata": {
    "collapsed": false
   },
   "outputs": [
    {
     "data": {
      "text/plain": [
       "['Photo Editor & Candy Camera & Grid & ScrapBook',\n",
       " 'ART_AND_DESIGN',\n",
       " '4.1',\n",
       " '159',\n",
       " '19M',\n",
       " '10,000+',\n",
       " 'Free',\n",
       " '0',\n",
       " 'Everyone',\n",
       " 'Art & Design',\n",
       " 'January 7, 2018',\n",
       " '1.0.0',\n",
       " '4.0.3 and up']"
      ]
     },
     "execution_count": 36,
     "metadata": {},
     "output_type": "execute_result"
    }
   ],
   "source": [
    "android_free[0]"
   ]
  },
  {
   "cell_type": "code",
   "execution_count": 35,
   "metadata": {
    "collapsed": true
   },
   "outputs": [],
   "source": [
    "android_category_table = freq_table(android_free,1)"
   ]
  },
  {
   "cell_type": "code",
   "execution_count": 40,
   "metadata": {
    "collapsed": false
   },
   "outputs": [
    {
     "name": "stdout",
     "output_type": "stream",
     "text": [
      "AUTO_AND_VEHICLES : 647318\n",
      "EVENTS : 253542\n",
      "FOOD_AND_DRINK : 1924898\n",
      "HEALTH_AND_FITNESS : 4188822\n",
      "SHOPPING : 7036877\n",
      "BOOKS_AND_REFERENCE : 8767812\n",
      "ENTERTAINMENT : 11640706\n",
      "TRAVEL_AND_LOCAL : 13984078\n",
      "BEAUTY : 513152\n",
      "PHOTOGRAPHY : 17840110\n",
      "VIDEO_PLAYERS : 24727872\n",
      "PRODUCTIVITY : 16787331\n",
      "TOOLS : 10801391\n",
      "NEWS_AND_MAGAZINES : 9549178\n",
      "PERSONALIZATION : 5201483\n",
      "SOCIAL : 23253652\n",
      "HOUSE_AND_HOME : 1331541\n",
      "LIBRARIES_AND_DEMO : 638504\n",
      "LIFESTYLE : 1437816\n",
      "BUSINESS : 1712290\n",
      "MEDICAL : 120551\n",
      "SPORTS : 3638640\n",
      "COMMUNICATION : 38456119\n",
      "EDUCATION : 1833495\n",
      "FINANCE : 1387692\n",
      "DATING : 854029\n",
      "PARENTING : 542604\n",
      "FAMILY : 3697848\n",
      "MAPS_AND_NAVIGATION : 4056942\n",
      "WEATHER : 5074486\n",
      "COMICS : 817657\n",
      "GAME : 15588016\n",
      "ART_AND_DESIGN : 1986335\n"
     ]
    }
   ],
   "source": [
    "for category in android_category_table:\n",
    "    total = 0\n",
    "    len_category = 0\n",
    "    for app in android_free:\n",
    "        if app[1] == category:\n",
    "            num = app[5].replace('+','')\n",
    "            num = num.replace(',','')\n",
    "            total += float(num)\n",
    "            len_category += 1\n",
    "    print(category,':',round(total/len_category))"
   ]
  },
  {
   "cell_type": "markdown",
   "metadata": {},
   "source": [
    "Top 3:\n",
    "- COMMUNICATION : 38456119\n",
    "- VIDEO_PLAYERS : 2472787\n",
    "- SOCIAL : 23253652"
   ]
  }
 ],
 "metadata": {
  "kernelspec": {
   "display_name": "Python 3",
   "language": "python",
   "name": "python3"
  },
  "language_info": {
   "codemirror_mode": {
    "name": "ipython",
    "version": 3
   },
   "file_extension": ".py",
   "mimetype": "text/x-python",
   "name": "python",
   "nbconvert_exporter": "python",
   "pygments_lexer": "ipython3",
   "version": "3.4.3"
  }
 },
 "nbformat": 4,
 "nbformat_minor": 2
}
